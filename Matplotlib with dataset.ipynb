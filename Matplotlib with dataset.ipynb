{
 "cells": [
  {
   "cell_type": "markdown",
   "metadata": {
    "colab_type": "text",
    "id": "0MRC0e0KhQ0S"
   },
   "source": [
    "# Support Vector Machine (SVM)"
   ]
  },
  {
   "cell_type": "markdown",
   "metadata": {
    "colab_type": "text",
    "id": "LWd1UlMnhT2s"
   },
   "source": [
    "## Importing the libraries"
   ]
  },
  {
   "cell_type": "code",
   "execution_count": 1,
   "metadata": {
    "colab": {},
    "colab_type": "code",
    "id": "YvGPUQaHhXfL"
   },
   "outputs": [],
   "source": [
    "import numpy as np\n",
    "import matplotlib.pyplot as plt\n",
    "import pandas as pd"
   ]
  },
  {
   "cell_type": "markdown",
   "metadata": {
    "colab_type": "text",
    "id": "K1VMqkGvhc3-"
   },
   "source": [
    "## Importing the dataset"
   ]
  },
  {
   "cell_type": "code",
   "execution_count": 2,
   "metadata": {
    "colab": {},
    "colab_type": "code",
    "id": "M52QDmyzhh9s"
   },
   "outputs": [],
   "source": [
    "dataset = pd.read_csv('Placement_Data_Full_Class.csv')\n"
   ]
  },
  {
   "cell_type": "code",
   "execution_count": 3,
   "metadata": {},
   "outputs": [
    {
     "name": "stdout",
     "output_type": "stream",
     "text": [
      "The Number of Row: 215\n",
      "The Number of Column 15\n"
     ]
    }
   ],
   "source": [
    "# Number of rows and Columns \n",
    "print(\"The Number of Row:\",dataset.shape[0])\n",
    "print(\"The Number of Column\",dataset.shape[1])"
   ]
  },
  {
   "cell_type": "code",
   "execution_count": 4,
   "metadata": {},
   "outputs": [],
   "source": [
    "# Load the user defined function\n",
    "\n",
    "from Descriptive import Descriptive\n",
    "\n",
    "obj=Descriptive()"
   ]
  },
  {
   "cell_type": "code",
   "execution_count": 5,
   "metadata": {},
   "outputs": [
    {
     "name": "stdout",
     "output_type": "stream",
     "text": [
      "The Quantitative Data: ['sl_no', 'ssc_p', 'hsc_p', 'degree_p', 'etest_p', 'mba_p', 'salary']\n",
      "The Qualtitative Data ['gender', 'ssc_b', 'hsc_b', 'hsc_s', 'degree_t', 'workex', 'specialisation', 'status']\n"
     ]
    }
   ],
   "source": [
    "#Split Quantative and Qualtative column names\n",
    "quantative,qualtative=obj.segreQuanQual(dataset)"
   ]
  },
  {
   "cell_type": "code",
   "execution_count": 6,
   "metadata": {},
   "outputs": [
    {
     "data": {
      "text/html": [
       "<div>\n",
       "<style scoped>\n",
       "    .dataframe tbody tr th:only-of-type {\n",
       "        vertical-align: middle;\n",
       "    }\n",
       "\n",
       "    .dataframe tbody tr th {\n",
       "        vertical-align: top;\n",
       "    }\n",
       "\n",
       "    .dataframe thead th {\n",
       "        text-align: right;\n",
       "    }\n",
       "</style>\n",
       "<table border=\"1\" class=\"dataframe\">\n",
       "  <thead>\n",
       "    <tr style=\"text-align: right;\">\n",
       "      <th></th>\n",
       "      <th>sl_no</th>\n",
       "      <th>ssc_p</th>\n",
       "      <th>hsc_p</th>\n",
       "      <th>degree_p</th>\n",
       "      <th>etest_p</th>\n",
       "      <th>mba_p</th>\n",
       "      <th>salary</th>\n",
       "    </tr>\n",
       "  </thead>\n",
       "  <tbody>\n",
       "    <tr>\n",
       "      <th>Count</th>\n",
       "      <td>215</td>\n",
       "      <td>215</td>\n",
       "      <td>215</td>\n",
       "      <td>215</td>\n",
       "      <td>215</td>\n",
       "      <td>215</td>\n",
       "      <td>215</td>\n",
       "    </tr>\n",
       "    <tr>\n",
       "      <th>Mean</th>\n",
       "      <td>108</td>\n",
       "      <td>67.3034</td>\n",
       "      <td>66.3332</td>\n",
       "      <td>66.3702</td>\n",
       "      <td>72.1006</td>\n",
       "      <td>62.2782</td>\n",
       "      <td>288655</td>\n",
       "    </tr>\n",
       "    <tr>\n",
       "      <th>Median</th>\n",
       "      <td>108</td>\n",
       "      <td>67</td>\n",
       "      <td>65</td>\n",
       "      <td>66</td>\n",
       "      <td>71</td>\n",
       "      <td>62</td>\n",
       "      <td>265000</td>\n",
       "    </tr>\n",
       "    <tr>\n",
       "      <th>Mode</th>\n",
       "      <td>1</td>\n",
       "      <td>62</td>\n",
       "      <td>63</td>\n",
       "      <td>65</td>\n",
       "      <td>60</td>\n",
       "      <td>56.7</td>\n",
       "      <td>300000</td>\n",
       "    </tr>\n",
       "    <tr>\n",
       "      <th>Std</th>\n",
       "      <td>62.2093</td>\n",
       "      <td>10.8272</td>\n",
       "      <td>10.8975</td>\n",
       "      <td>7.35874</td>\n",
       "      <td>13.276</td>\n",
       "      <td>5.83338</td>\n",
       "      <td>93457.5</td>\n",
       "    </tr>\n",
       "    <tr>\n",
       "      <th>Min</th>\n",
       "      <td>1</td>\n",
       "      <td>40.89</td>\n",
       "      <td>37</td>\n",
       "      <td>50</td>\n",
       "      <td>50</td>\n",
       "      <td>51.21</td>\n",
       "      <td>200000</td>\n",
       "    </tr>\n",
       "    <tr>\n",
       "      <th>Q1:25%</th>\n",
       "      <td>54.5</td>\n",
       "      <td>60.6</td>\n",
       "      <td>60.9</td>\n",
       "      <td>61</td>\n",
       "      <td>60</td>\n",
       "      <td>57.945</td>\n",
       "      <td>240000</td>\n",
       "    </tr>\n",
       "    <tr>\n",
       "      <th>Q2:50%</th>\n",
       "      <td>108</td>\n",
       "      <td>67</td>\n",
       "      <td>65</td>\n",
       "      <td>66</td>\n",
       "      <td>71</td>\n",
       "      <td>62</td>\n",
       "      <td>265000</td>\n",
       "    </tr>\n",
       "    <tr>\n",
       "      <th>Q3:75%</th>\n",
       "      <td>161.5</td>\n",
       "      <td>75.7</td>\n",
       "      <td>73</td>\n",
       "      <td>72</td>\n",
       "      <td>83.5</td>\n",
       "      <td>66.255</td>\n",
       "      <td>300000</td>\n",
       "    </tr>\n",
       "    <tr>\n",
       "      <th>Q4:100%</th>\n",
       "      <td>215</td>\n",
       "      <td>89.4</td>\n",
       "      <td>97.7</td>\n",
       "      <td>91</td>\n",
       "      <td>98</td>\n",
       "      <td>77.89</td>\n",
       "      <td>940000</td>\n",
       "    </tr>\n",
       "    <tr>\n",
       "      <th>IQR</th>\n",
       "      <td>107</td>\n",
       "      <td>15.1</td>\n",
       "      <td>12.1</td>\n",
       "      <td>11</td>\n",
       "      <td>23.5</td>\n",
       "      <td>8.31</td>\n",
       "      <td>60000</td>\n",
       "    </tr>\n",
       "    <tr>\n",
       "      <th>1.5Rule</th>\n",
       "      <td>160.5</td>\n",
       "      <td>22.65</td>\n",
       "      <td>18.15</td>\n",
       "      <td>16.5</td>\n",
       "      <td>35.25</td>\n",
       "      <td>12.465</td>\n",
       "      <td>90000</td>\n",
       "    </tr>\n",
       "    <tr>\n",
       "      <th>Lesser</th>\n",
       "      <td>-106</td>\n",
       "      <td>37.95</td>\n",
       "      <td>42.75</td>\n",
       "      <td>44.5</td>\n",
       "      <td>24.75</td>\n",
       "      <td>45.48</td>\n",
       "      <td>150000</td>\n",
       "    </tr>\n",
       "    <tr>\n",
       "      <th>Greater</th>\n",
       "      <td>322</td>\n",
       "      <td>98.35</td>\n",
       "      <td>91.15</td>\n",
       "      <td>88.5</td>\n",
       "      <td>118.75</td>\n",
       "      <td>78.72</td>\n",
       "      <td>390000</td>\n",
       "    </tr>\n",
       "  </tbody>\n",
       "</table>\n",
       "</div>"
      ],
      "text/plain": [
       "           sl_no    ssc_p    hsc_p degree_p  etest_p    mba_p   salary\n",
       "Count        215      215      215      215      215      215      215\n",
       "Mean         108  67.3034  66.3332  66.3702  72.1006  62.2782   288655\n",
       "Median       108       67       65       66       71       62   265000\n",
       "Mode           1       62       63       65       60     56.7   300000\n",
       "Std      62.2093  10.8272  10.8975  7.35874   13.276  5.83338  93457.5\n",
       "Min            1    40.89       37       50       50    51.21   200000\n",
       "Q1:25%      54.5     60.6     60.9       61       60   57.945   240000\n",
       "Q2:50%       108       67       65       66       71       62   265000\n",
       "Q3:75%     161.5     75.7       73       72     83.5   66.255   300000\n",
       "Q4:100%      215     89.4     97.7       91       98    77.89   940000\n",
       "IQR          107     15.1     12.1       11     23.5     8.31    60000\n",
       "1.5Rule    160.5    22.65    18.15     16.5    35.25   12.465    90000\n",
       "Lesser      -106    37.95    42.75     44.5    24.75    45.48   150000\n",
       "Greater      322    98.35    91.15     88.5   118.75    78.72   390000"
      ]
     },
     "execution_count": 6,
     "metadata": {},
     "output_type": "execute_result"
    }
   ],
   "source": [
    "#Descriptive Porcess\n",
    "des_Data=obj.descriptive_Analysis(dataset,quantative)\n",
    "des_Data"
   ]
  },
  {
   "cell_type": "code",
   "execution_count": 7,
   "metadata": {},
   "outputs": [
    {
     "name": "stdout",
     "output_type": "stream",
     "text": [
      "Lesser Range ['hsc_p']\n",
      "Greater Range ['hsc_p', 'degree_p', 'salary']\n"
     ]
    }
   ],
   "source": [
    "#Checking the outlier\n",
    "lesser,greater=obj.outliercolumn(quantative,des_Data)"
   ]
  },
  {
   "cell_type": "code",
   "execution_count": 8,
   "metadata": {},
   "outputs": [
    {
     "name": "stderr",
     "output_type": "stream",
     "text": [
      "F:\\HOPE\\Batch-3rd\\5.DataScience\\Data Visul\\3.Visualization\\Matplotlib\\Descriptive.py:56: SettingWithCopyWarning: \n",
      "A value is trying to be set on a copy of a slice from a DataFrame\n",
      "\n",
      "See the caveats in the documentation: http://pandas.pydata.org/pandas-docs/stable/user_guide/indexing.html#returning-a-view-versus-a-copy\n",
      "  dataset[i][dataset[i]<des_Data[i]['Lesser']]=des_Data[i]['Lesser']\n",
      "F:\\HOPE\\Batch-3rd\\5.DataScience\\Data Visul\\3.Visualization\\Matplotlib\\Descriptive.py:59: SettingWithCopyWarning: \n",
      "A value is trying to be set on a copy of a slice from a DataFrame\n",
      "\n",
      "See the caveats in the documentation: http://pandas.pydata.org/pandas-docs/stable/user_guide/indexing.html#returning-a-view-versus-a-copy\n",
      "  dataset[j][dataset[j]>des_Data[j]['Greater']]=des_Data[j]['Greater']\n"
     ]
    },
    {
     "data": {
      "text/html": [
       "<div>\n",
       "<style scoped>\n",
       "    .dataframe tbody tr th:only-of-type {\n",
       "        vertical-align: middle;\n",
       "    }\n",
       "\n",
       "    .dataframe tbody tr th {\n",
       "        vertical-align: top;\n",
       "    }\n",
       "\n",
       "    .dataframe thead th {\n",
       "        text-align: right;\n",
       "    }\n",
       "</style>\n",
       "<table border=\"1\" class=\"dataframe\">\n",
       "  <thead>\n",
       "    <tr style=\"text-align: right;\">\n",
       "      <th></th>\n",
       "      <th>sl_no</th>\n",
       "      <th>ssc_p</th>\n",
       "      <th>hsc_p</th>\n",
       "      <th>degree_p</th>\n",
       "      <th>etest_p</th>\n",
       "      <th>mba_p</th>\n",
       "      <th>salary</th>\n",
       "    </tr>\n",
       "  </thead>\n",
       "  <tbody>\n",
       "    <tr>\n",
       "      <th>Count</th>\n",
       "      <td>215</td>\n",
       "      <td>215</td>\n",
       "      <td>215</td>\n",
       "      <td>215</td>\n",
       "      <td>215</td>\n",
       "      <td>215</td>\n",
       "      <td>215</td>\n",
       "    </tr>\n",
       "    <tr>\n",
       "      <th>Mean</th>\n",
       "      <td>108</td>\n",
       "      <td>67.3034</td>\n",
       "      <td>66.3332</td>\n",
       "      <td>66.3702</td>\n",
       "      <td>72.1006</td>\n",
       "      <td>62.2782</td>\n",
       "      <td>288655</td>\n",
       "    </tr>\n",
       "    <tr>\n",
       "      <th>Median</th>\n",
       "      <td>108</td>\n",
       "      <td>67</td>\n",
       "      <td>65</td>\n",
       "      <td>66</td>\n",
       "      <td>71</td>\n",
       "      <td>62</td>\n",
       "      <td>265000</td>\n",
       "    </tr>\n",
       "    <tr>\n",
       "      <th>Mode</th>\n",
       "      <td>1</td>\n",
       "      <td>62</td>\n",
       "      <td>63</td>\n",
       "      <td>65</td>\n",
       "      <td>60</td>\n",
       "      <td>56.7</td>\n",
       "      <td>300000</td>\n",
       "    </tr>\n",
       "    <tr>\n",
       "      <th>Std</th>\n",
       "      <td>62.2093</td>\n",
       "      <td>10.8272</td>\n",
       "      <td>10.8975</td>\n",
       "      <td>7.35874</td>\n",
       "      <td>13.276</td>\n",
       "      <td>5.83338</td>\n",
       "      <td>93457.5</td>\n",
       "    </tr>\n",
       "    <tr>\n",
       "      <th>Min</th>\n",
       "      <td>1</td>\n",
       "      <td>40.89</td>\n",
       "      <td>37</td>\n",
       "      <td>50</td>\n",
       "      <td>50</td>\n",
       "      <td>51.21</td>\n",
       "      <td>200000</td>\n",
       "    </tr>\n",
       "    <tr>\n",
       "      <th>Q1:25%</th>\n",
       "      <td>54.5</td>\n",
       "      <td>60.6</td>\n",
       "      <td>60.9</td>\n",
       "      <td>61</td>\n",
       "      <td>60</td>\n",
       "      <td>57.945</td>\n",
       "      <td>240000</td>\n",
       "    </tr>\n",
       "    <tr>\n",
       "      <th>Q2:50%</th>\n",
       "      <td>108</td>\n",
       "      <td>67</td>\n",
       "      <td>65</td>\n",
       "      <td>66</td>\n",
       "      <td>71</td>\n",
       "      <td>62</td>\n",
       "      <td>265000</td>\n",
       "    </tr>\n",
       "    <tr>\n",
       "      <th>Q3:75%</th>\n",
       "      <td>161.5</td>\n",
       "      <td>75.7</td>\n",
       "      <td>73</td>\n",
       "      <td>72</td>\n",
       "      <td>83.5</td>\n",
       "      <td>66.255</td>\n",
       "      <td>300000</td>\n",
       "    </tr>\n",
       "    <tr>\n",
       "      <th>Q4:100%</th>\n",
       "      <td>215</td>\n",
       "      <td>89.4</td>\n",
       "      <td>97.7</td>\n",
       "      <td>91</td>\n",
       "      <td>98</td>\n",
       "      <td>77.89</td>\n",
       "      <td>940000</td>\n",
       "    </tr>\n",
       "    <tr>\n",
       "      <th>IQR</th>\n",
       "      <td>107</td>\n",
       "      <td>15.1</td>\n",
       "      <td>12.1</td>\n",
       "      <td>11</td>\n",
       "      <td>23.5</td>\n",
       "      <td>8.31</td>\n",
       "      <td>60000</td>\n",
       "    </tr>\n",
       "    <tr>\n",
       "      <th>1.5Rule</th>\n",
       "      <td>160.5</td>\n",
       "      <td>22.65</td>\n",
       "      <td>18.15</td>\n",
       "      <td>16.5</td>\n",
       "      <td>35.25</td>\n",
       "      <td>12.465</td>\n",
       "      <td>90000</td>\n",
       "    </tr>\n",
       "    <tr>\n",
       "      <th>Lesser</th>\n",
       "      <td>-106</td>\n",
       "      <td>37.95</td>\n",
       "      <td>42.75</td>\n",
       "      <td>44.5</td>\n",
       "      <td>24.75</td>\n",
       "      <td>45.48</td>\n",
       "      <td>150000</td>\n",
       "    </tr>\n",
       "    <tr>\n",
       "      <th>Greater</th>\n",
       "      <td>322</td>\n",
       "      <td>98.35</td>\n",
       "      <td>91.15</td>\n",
       "      <td>88.5</td>\n",
       "      <td>118.75</td>\n",
       "      <td>78.72</td>\n",
       "      <td>390000</td>\n",
       "    </tr>\n",
       "  </tbody>\n",
       "</table>\n",
       "</div>"
      ],
      "text/plain": [
       "           sl_no    ssc_p    hsc_p degree_p  etest_p    mba_p   salary\n",
       "Count        215      215      215      215      215      215      215\n",
       "Mean         108  67.3034  66.3332  66.3702  72.1006  62.2782   288655\n",
       "Median       108       67       65       66       71       62   265000\n",
       "Mode           1       62       63       65       60     56.7   300000\n",
       "Std      62.2093  10.8272  10.8975  7.35874   13.276  5.83338  93457.5\n",
       "Min            1    40.89       37       50       50    51.21   200000\n",
       "Q1:25%      54.5     60.6     60.9       61       60   57.945   240000\n",
       "Q2:50%       108       67       65       66       71       62   265000\n",
       "Q3:75%     161.5     75.7       73       72     83.5   66.255   300000\n",
       "Q4:100%      215     89.4     97.7       91       98    77.89   940000\n",
       "IQR          107     15.1     12.1       11     23.5     8.31    60000\n",
       "1.5Rule    160.5    22.65    18.15     16.5    35.25   12.465    90000\n",
       "Lesser      -106    37.95    42.75     44.5    24.75    45.48   150000\n",
       "Greater      322    98.35    91.15     88.5   118.75    78.72   390000"
      ]
     },
     "execution_count": 8,
     "metadata": {},
     "output_type": "execute_result"
    }
   ],
   "source": [
    "# if outlier present run this, to replace the value\n",
    "change_Data=obj.changeoutlier(dataset,des_Data,lesser,greater)\n",
    "change_Data"
   ]
  },
  {
   "cell_type": "code",
   "execution_count": 9,
   "metadata": {},
   "outputs": [
    {
     "data": {
      "text/html": [
       "<div>\n",
       "<style scoped>\n",
       "    .dataframe tbody tr th:only-of-type {\n",
       "        vertical-align: middle;\n",
       "    }\n",
       "\n",
       "    .dataframe tbody tr th {\n",
       "        vertical-align: top;\n",
       "    }\n",
       "\n",
       "    .dataframe thead th {\n",
       "        text-align: right;\n",
       "    }\n",
       "</style>\n",
       "<table border=\"1\" class=\"dataframe\">\n",
       "  <thead>\n",
       "    <tr style=\"text-align: right;\">\n",
       "      <th></th>\n",
       "      <th>sl_no</th>\n",
       "      <th>ssc_p</th>\n",
       "      <th>hsc_p</th>\n",
       "      <th>degree_p</th>\n",
       "      <th>etest_p</th>\n",
       "      <th>mba_p</th>\n",
       "      <th>salary</th>\n",
       "    </tr>\n",
       "  </thead>\n",
       "  <tbody>\n",
       "    <tr>\n",
       "      <th>Count</th>\n",
       "      <td>215</td>\n",
       "      <td>215</td>\n",
       "      <td>215</td>\n",
       "      <td>215</td>\n",
       "      <td>215</td>\n",
       "      <td>215</td>\n",
       "      <td>215</td>\n",
       "    </tr>\n",
       "    <tr>\n",
       "      <th>Mean</th>\n",
       "      <td>108</td>\n",
       "      <td>67.3034</td>\n",
       "      <td>66.3347</td>\n",
       "      <td>66.3586</td>\n",
       "      <td>72.1006</td>\n",
       "      <td>62.2782</td>\n",
       "      <td>277649</td>\n",
       "    </tr>\n",
       "    <tr>\n",
       "      <th>Median</th>\n",
       "      <td>108</td>\n",
       "      <td>67</td>\n",
       "      <td>65</td>\n",
       "      <td>66</td>\n",
       "      <td>71</td>\n",
       "      <td>62</td>\n",
       "      <td>265000</td>\n",
       "    </tr>\n",
       "    <tr>\n",
       "      <th>Mode</th>\n",
       "      <td>1</td>\n",
       "      <td>62</td>\n",
       "      <td>63</td>\n",
       "      <td>65</td>\n",
       "      <td>60</td>\n",
       "      <td>56.7</td>\n",
       "      <td>300000</td>\n",
       "    </tr>\n",
       "    <tr>\n",
       "      <th>Std</th>\n",
       "      <td>62.2093</td>\n",
       "      <td>10.8272</td>\n",
       "      <td>10.586</td>\n",
       "      <td>7.32152</td>\n",
       "      <td>13.276</td>\n",
       "      <td>5.83338</td>\n",
       "      <td>54264.1</td>\n",
       "    </tr>\n",
       "    <tr>\n",
       "      <th>Min</th>\n",
       "      <td>1</td>\n",
       "      <td>40.89</td>\n",
       "      <td>42.75</td>\n",
       "      <td>50</td>\n",
       "      <td>50</td>\n",
       "      <td>51.21</td>\n",
       "      <td>200000</td>\n",
       "    </tr>\n",
       "    <tr>\n",
       "      <th>Q1:25%</th>\n",
       "      <td>54.5</td>\n",
       "      <td>60.6</td>\n",
       "      <td>60.9</td>\n",
       "      <td>61</td>\n",
       "      <td>60</td>\n",
       "      <td>57.945</td>\n",
       "      <td>240000</td>\n",
       "    </tr>\n",
       "    <tr>\n",
       "      <th>Q2:50%</th>\n",
       "      <td>108</td>\n",
       "      <td>67</td>\n",
       "      <td>65</td>\n",
       "      <td>66</td>\n",
       "      <td>71</td>\n",
       "      <td>62</td>\n",
       "      <td>265000</td>\n",
       "    </tr>\n",
       "    <tr>\n",
       "      <th>Q3:75%</th>\n",
       "      <td>161.5</td>\n",
       "      <td>75.7</td>\n",
       "      <td>73</td>\n",
       "      <td>72</td>\n",
       "      <td>83.5</td>\n",
       "      <td>66.255</td>\n",
       "      <td>300000</td>\n",
       "    </tr>\n",
       "    <tr>\n",
       "      <th>Q4:100%</th>\n",
       "      <td>215</td>\n",
       "      <td>89.4</td>\n",
       "      <td>91.15</td>\n",
       "      <td>88.5</td>\n",
       "      <td>98</td>\n",
       "      <td>77.89</td>\n",
       "      <td>390000</td>\n",
       "    </tr>\n",
       "    <tr>\n",
       "      <th>IQR</th>\n",
       "      <td>107</td>\n",
       "      <td>15.1</td>\n",
       "      <td>12.1</td>\n",
       "      <td>11</td>\n",
       "      <td>23.5</td>\n",
       "      <td>8.31</td>\n",
       "      <td>60000</td>\n",
       "    </tr>\n",
       "    <tr>\n",
       "      <th>1.5Rule</th>\n",
       "      <td>160.5</td>\n",
       "      <td>22.65</td>\n",
       "      <td>18.15</td>\n",
       "      <td>16.5</td>\n",
       "      <td>35.25</td>\n",
       "      <td>12.465</td>\n",
       "      <td>90000</td>\n",
       "    </tr>\n",
       "    <tr>\n",
       "      <th>Lesser</th>\n",
       "      <td>-106</td>\n",
       "      <td>37.95</td>\n",
       "      <td>42.75</td>\n",
       "      <td>44.5</td>\n",
       "      <td>24.75</td>\n",
       "      <td>45.48</td>\n",
       "      <td>150000</td>\n",
       "    </tr>\n",
       "    <tr>\n",
       "      <th>Greater</th>\n",
       "      <td>322</td>\n",
       "      <td>98.35</td>\n",
       "      <td>91.15</td>\n",
       "      <td>88.5</td>\n",
       "      <td>118.75</td>\n",
       "      <td>78.72</td>\n",
       "      <td>390000</td>\n",
       "    </tr>\n",
       "  </tbody>\n",
       "</table>\n",
       "</div>"
      ],
      "text/plain": [
       "           sl_no    ssc_p    hsc_p degree_p  etest_p    mba_p   salary\n",
       "Count        215      215      215      215      215      215      215\n",
       "Mean         108  67.3034  66.3347  66.3586  72.1006  62.2782   277649\n",
       "Median       108       67       65       66       71       62   265000\n",
       "Mode           1       62       63       65       60     56.7   300000\n",
       "Std      62.2093  10.8272   10.586  7.32152   13.276  5.83338  54264.1\n",
       "Min            1    40.89    42.75       50       50    51.21   200000\n",
       "Q1:25%      54.5     60.6     60.9       61       60   57.945   240000\n",
       "Q2:50%       108       67       65       66       71       62   265000\n",
       "Q3:75%     161.5     75.7       73       72     83.5   66.255   300000\n",
       "Q4:100%      215     89.4    91.15     88.5       98    77.89   390000\n",
       "IQR          107     15.1     12.1       11     23.5     8.31    60000\n",
       "1.5Rule    160.5    22.65    18.15     16.5    35.25   12.465    90000\n",
       "Lesser      -106    37.95    42.75     44.5    24.75    45.48   150000\n",
       "Greater      322    98.35    91.15     88.5   118.75    78.72   390000"
      ]
     },
     "execution_count": 9,
     "metadata": {},
     "output_type": "execute_result"
    }
   ],
   "source": [
    "# After replacement of outlier we are checking with Descriptive analysis\n",
    "des_Data=obj.descriptive_Analysis(dataset,quantative)\n",
    "des_Data"
   ]
  },
  {
   "cell_type": "code",
   "execution_count": 10,
   "metadata": {},
   "outputs": [
    {
     "name": "stdout",
     "output_type": "stream",
     "text": [
      "Lesser Range []\n",
      "Greater Range []\n"
     ]
    }
   ],
   "source": [
    "#Cross Checking\n",
    "lesser,greater=obj.outliercolumn(quantative,des_Data)"
   ]
  },
  {
   "cell_type": "code",
   "execution_count": 11,
   "metadata": {},
   "outputs": [
    {
     "data": {
      "text/plain": [
       "Index(['sl_no', 'gender', 'ssc_p', 'ssc_b', 'hsc_p', 'hsc_b', 'hsc_s',\n",
       "       'degree_p', 'degree_t', 'workex', 'etest_p', 'specialisation', 'mba_p',\n",
       "       'status', 'salary'],\n",
       "      dtype='object')"
      ]
     },
     "execution_count": 11,
     "metadata": {},
     "output_type": "execute_result"
    }
   ],
   "source": [
    "dataset.columns"
   ]
  },
  {
   "cell_type": "code",
   "execution_count": 12,
   "metadata": {},
   "outputs": [],
   "source": [
    "X1=dataset['ssc_p']\n",
    "Y1=dataset['hsc_p']"
   ]
  },
  {
   "cell_type": "code",
   "execution_count": 26,
   "metadata": {},
   "outputs": [],
   "source": [
    "# plot"
   ]
  },
  {
   "cell_type": "code",
   "execution_count": 19,
   "metadata": {},
   "outputs": [
    {
     "data": {
      "text/plain": [
       "Text(0, 0.5, 'hsc_p')"
      ]
     },
     "execution_count": 19,
     "metadata": {},
     "output_type": "execute_result"
    },
    {
     "data": {
      "image/png": "[encoded data removed]",
      "text/plain": [
       "<Figure size 432x288 with 1 Axes>"
      ]
     },
     "metadata": {
      "needs_background": "light"
     },
     "output_type": "display_data"
    }
   ],
   "source": [
    "plt.plot(X1,marker='v',color='green',linestyle='solid',\n",
    "     linewidth=1, markersize=3)\n",
    "\n",
    "plt.grid(True)#default\n",
    "plt.grid(color='b', ls = '-.', lw = 1)\n",
    "\n",
    "plt.title(\"Line plot\",loc=\"center\")\n",
    "plt.xlabel(\"ssc_p\")\n",
    "plt.ylabel(\"hsc_p\")\n",
    "\n"
   ]
  },
  {
   "cell_type": "code",
   "execution_count": 23,
   "metadata": {},
   "outputs": [
    {
     "data": {
      "image/png": "[encoded data removed]",
      "text/plain": [
       "<Figure size 432x288 with 2 Axes>"
      ]
     },
     "metadata": {
      "needs_background": "light"
     },
     "output_type": "display_data"
    }
   ],
   "source": [
    "\n",
    "X, Y = np.meshgrid(X1, Y1)\n",
    "#Z = np.sqrt(X**2 + Y**2)\n",
    "Z=X/Y\n",
    "cp=plt.contour(X, Y, Z)\n",
    "plt.grid(True)#default\n",
    "plt.grid(color='b', ls = '-.', lw = 1)\n",
    "plt.title(\"Contour plot\",loc=\"right\")\n",
    "plt.xlabel(\"x-axis\")\n",
    "plt.ylabel(\"y-axis\")\n",
    "plt.colorbar(cp)\n",
    "plt.show()"
   ]
  },
  {
   "cell_type": "code",
   "execution_count": 38,
   "metadata": {},
   "outputs": [
    {
     "data": {
      "image/png": "[encoded data removed]",
      "text/plain": [
       "<Figure size 432x288 with 1 Axes>"
      ]
     },
     "metadata": {
      "needs_background": "light"
     },
     "output_type": "display_data"
    }
   ],
   "source": [
    "from mpl_toolkits import mplot3d\n",
    "fig = plt.figure()\n",
    "ax = plt.axes(projection='3d')\n",
    "\n",
    "X, Y = np.meshgrid(X1, Y1)\n",
    "Z = np.sqrt(X**2 + Y**2)\n",
    "cp=plt.contourf(X, Y, Z)\n",
    "#ax.contour3D(X, Y, Z, 50, cmap='gray')\n",
    "ax.plot_wireframe(X, Y, Z, color='black')\n",
    "#ax.plot_surface(X,Y,Z,cmap='viridis', edgecolor='none')\n",
    "plt.show()"
   ]
  },
  {
   "cell_type": "code",
   "execution_count": 39,
   "metadata": {},
   "outputs": [
    {
     "data": {
      "image/png": "[encoded data removed]",
      "text/plain": [
       "<Figure size 432x288 with 1 Axes>"
      ]
     },
     "metadata": {
      "needs_background": "light"
     },
     "output_type": "display_data"
    }
   ],
   "source": [
    "plt.boxplot([X1,Y1])\n",
    "plt.show()"
   ]
  },
  {
   "cell_type": "code",
   "execution_count": 40,
   "metadata": {},
   "outputs": [
    {
     "data": {
      "text/plain": [
       "{'bodies': [<matplotlib.collections.PolyCollection at 0x2b4e9fd0>,\n",
       "  <matplotlib.collections.PolyCollection at 0x2b5cec88>],\n",
       " 'cmaxes': <matplotlib.collections.LineCollection at 0x2b5cea20>,\n",
       " 'cmins': <matplotlib.collections.LineCollection at 0x2b5da198>,\n",
       " 'cbars': <matplotlib.collections.LineCollection at 0x2b5da438>}"
      ]
     },
     "execution_count": 40,
     "metadata": {},
     "output_type": "execute_result"
    },
    {
     "data": {
      "image/png": "[encoded data removed]",
      "text/plain": [
       "<Figure size 432x288 with 1 Axes>"
      ]
     },
     "metadata": {
      "needs_background": "light"
     },
     "output_type": "display_data"
    }
   ],
   "source": [
    "plt.violinplot([X1,Y1])"
   ]
  },
  {
   "cell_type": "code",
   "execution_count": null,
   "metadata": {},
   "outputs": [],
   "source": []
  }
 ],
 "metadata": {
  "colab": {
   "authorship_tag": "ABX9TyP5Kpeaxv3Iy5aLZ03t2oF7",
   "collapsed_sections": [],
   "name": "Support Vector Machine",
   "provenance": [],
   "toc_visible": true
  },
  "kernelspec": {
   "display_name": "Python 3 (ipykernel)",
   "language": "python",
   "name": "python3"
  },
  "language_info": {
   "codemirror_mode": {
    "name": "ipython",
    "version": 3
   },
   "file_extension": ".py",
   "mimetype": "text/x-python",
   "name": "python",
   "nbconvert_exporter": "python",
   "pygments_lexer": "ipython3",
   "version": "3.9.12"
  }
 },
 "nbformat": 4,
 "nbformat_minor": 1
}
